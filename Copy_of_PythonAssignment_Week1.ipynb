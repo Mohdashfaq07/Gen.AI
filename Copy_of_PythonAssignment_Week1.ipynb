{
  "cells": [
    {
      "cell_type": "markdown",
      "metadata": {
        "id": "view-in-github",
        "colab_type": "text"
      },
      "source": [
        "<a href=\"https://colab.research.google.com/github/Mohdashfaq07/Gen.AI/blob/main/Copy_of_PythonAssignment_Week1.ipynb\" target=\"_parent\"><img src=\"https://colab.research.google.com/assets/colab-badge.svg\" alt=\"Open In Colab\"/></a>"
      ]
    },
    {
      "metadata": {
        "id": "6tgxENnLvLH7"
      },
      "cell_type": "markdown",
      "source": [
        "# Assignment - Python Basics Practice\n",
        "\n",
        "\n"
      ]
    },
    {
      "metadata": {
        "id": "1VqMdyiivLH-"
      },
      "cell_type": "markdown",
      "source": [
        "## Variables and Data Types\n",
        "\n",
        "**Q: Assign your name to the variable `name`.**"
      ]
    },
    {
      "metadata": {
        "trusted": true,
        "id": "yVIYuDDMvLH-",
        "colab": {
          "base_uri": "https://localhost:8080/"
        },
        "outputId": "bf3ceeca-0403-4221-90c5-4f1fd21f9124"
      },
      "cell_type": "code",
      "source": [
        "name = \"Mohammed Ashfaq M\"\n",
        "print(name)\n"
      ],
      "execution_count": 2,
      "outputs": [
        {
          "output_type": "stream",
          "name": "stdout",
          "text": [
            "Mohammed Ashfaq M\n"
          ]
        }
      ]
    },
    {
      "metadata": {
        "id": "QeK-QA7GvLH-"
      },
      "cell_type": "markdown",
      "source": [
        "**Q: Assign your age (real or fake) to the variable `age`.**"
      ]
    },
    {
      "metadata": {
        "trusted": true,
        "id": "axuBC-y6vLH_",
        "colab": {
          "base_uri": "https://localhost:8080/"
        },
        "outputId": "10a7c20e-9e72-4af7-b847-f7d6f8c97b4e"
      },
      "cell_type": "code",
      "source": [
        "age = 23\n",
        "print(age)"
      ],
      "execution_count": 3,
      "outputs": [
        {
          "output_type": "stream",
          "name": "stdout",
          "text": [
            "23\n"
          ]
        }
      ]
    },
    {
      "metadata": {
        "id": "okMEWXHwvLH_"
      },
      "cell_type": "markdown",
      "source": [
        "**Q: Assign a boolean value to the variable `has_android_phone`.**"
      ]
    },
    {
      "metadata": {
        "trusted": true,
        "id": "Y6HA_IVGvLH_",
        "colab": {
          "base_uri": "https://localhost:8080/"
        },
        "outputId": "dd521ca8-0ef6-4455-9fea-1325571a3fee"
      },
      "cell_type": "code",
      "source": [
        "has_android_phone = True\n",
        "print(has_android_phone)\n"
      ],
      "execution_count": 4,
      "outputs": [
        {
          "output_type": "stream",
          "name": "stdout",
          "text": [
            "True\n"
          ]
        }
      ]
    },
    {
      "metadata": {
        "id": "QfC_6aXfvLIA"
      },
      "cell_type": "markdown",
      "source": [
        "**Q: Create a dictionary `person` with keys `\"Name\"`, `\"Age\"`, `\"HasAndroidPhone\"` and values using the variables defined above.**"
      ]
    },
    {
      "metadata": {
        "trusted": true,
        "id": "VdNLm3L5vLIA",
        "colab": {
          "base_uri": "https://localhost:8080/"
        },
        "outputId": "68122e02-3bfe-4fd1-ebb3-aeff921a02d4"
      },
      "cell_type": "code",
      "source": [
        "person = {\n",
        "    \"Name\": name,\n",
        "    \"Age\": age,\n",
        "    \"HasAndroidPhone\": has_android_phone\n",
        "}\n",
        "\n",
        "print(person)\n",
        "\n"
      ],
      "execution_count": 7,
      "outputs": [
        {
          "output_type": "stream",
          "name": "stdout",
          "text": [
            "{'Name': 'Mohammed Ashfaq M', 'Age': 23, 'HasAndroidPhone': True}\n"
          ]
        }
      ]
    },
    {
      "metadata": {
        "id": "ytlWYVM7vLIA"
      },
      "cell_type": "markdown",
      "source": [
        "Let's use the `person` dictionary to print a nice message."
      ]
    },
    {
      "metadata": {
        "trusted": true,
        "id": "r5sq7VvevLIA",
        "colab": {
          "base_uri": "https://localhost:8080/"
        },
        "outputId": "c77e0415-96e8-47a5-e763-191f60112b04"
      },
      "cell_type": "code",
      "source": [
        "print(f\"Hello, my name is {person['Name']}. I am {person['Age']} years old, and it is {person['HasAndroidPhone']} that I have an Android phone.\")\n"
      ],
      "execution_count": 8,
      "outputs": [
        {
          "output_type": "stream",
          "name": "stdout",
          "text": [
            "Hello, my name is Mohammed Ashfaq M. I am 23 years old, and it is True that I have an Android phone.\n"
          ]
        }
      ]
    },
    {
      "metadata": {
        "id": "HyQ9W2bGvLIB"
      },
      "cell_type": "markdown",
      "source": [
        "Use a `for` loop to display the `type` of each value stored against each key in `person`.**\n",
        "\n",
        "Here's the expected output for the key `\"Name\"`:\n",
        "\n",
        "```\n",
        "The key \"Name\" has the value \"Derek\" of the type \"<class 'str'>\"\n",
        "```"
      ]
    },
    {
      "metadata": {
        "id": "L5VT5-3yvLIB"
      },
      "cell_type": "markdown",
      "source": [
        "## Working with Lists\n",
        "\n",
        "**Q: Create a list containing the following 3 elements:**\n",
        "\n",
        "* your favorite color\n",
        "* the number of pets you have\n",
        "* a boolean value describing whether you have previous programming experience\n"
      ]
    },
    {
      "metadata": {
        "trusted": true,
        "id": "KKXeilefvLIB"
      },
      "cell_type": "code",
      "source": [
        "my_list = [\"Blue\", 2, True]  # Replace with your actual values\n"
      ],
      "execution_count": 10,
      "outputs": []
    },
    {
      "metadata": {
        "id": "qPMwq-6RvLIB"
      },
      "cell_type": "markdown",
      "source": [
        "Let's see what the list looks like:"
      ]
    },
    {
      "metadata": {
        "trusted": true,
        "id": "o8NZIpdVvLIB",
        "colab": {
          "base_uri": "https://localhost:8080/"
        },
        "outputId": "3c047fae-cd0c-4ab3-c8bc-499269985294"
      },
      "cell_type": "code",
      "source": [
        "print(my_list)\n"
      ],
      "execution_count": 11,
      "outputs": [
        {
          "output_type": "stream",
          "name": "stdout",
          "text": [
            "['Blue', 2, True]\n"
          ]
        }
      ]
    },
    {
      "metadata": {
        "id": "5yhV9OtPvLIB"
      },
      "cell_type": "markdown",
      "source": [
        "**Q: Complete the following `print` and `if` statements by accessing the appropriate elements from `my_list`.**\n",
        "\n",
        "*Hint*: Use the list indexing notation `[]`."
      ]
    },
    {
      "metadata": {
        "trusted": true,
        "id": "xkkR9UObvLIB",
        "colab": {
          "base_uri": "https://localhost:8080/"
        },
        "outputId": "9fb8c4a7-9a07-47e4-a191-95b2d2d0378d"
      },
      "cell_type": "code",
      "source": [
        "print('My favorite color is',{my_list[0]})"
      ],
      "execution_count": 16,
      "outputs": [
        {
          "output_type": "stream",
          "name": "stdout",
          "text": [
            "My favorite color is {'Blue'}\n"
          ]
        }
      ]
    },
    {
      "metadata": {
        "trusted": true,
        "id": "wS04XOMqvLIB",
        "colab": {
          "base_uri": "https://localhost:8080/"
        },
        "outputId": "06742ea3-73f7-4698-93bc-709a482bca52"
      },
      "cell_type": "code",
      "source": [
        "print('I have' ,{my_list[1]} ,'pet(s).')"
      ],
      "execution_count": 18,
      "outputs": [
        {
          "output_type": "stream",
          "name": "stdout",
          "text": [
            "I have {2} pet(s).\n"
          ]
        }
      ]
    },
    {
      "metadata": {
        "trusted": true,
        "id": "oj9kdoAUvLIB",
        "colab": {
          "base_uri": "https://localhost:8080/"
        },
        "outputId": "b93017c7-0c85-4530-b9d5-65a0f6eb7325"
      },
      "cell_type": "code",
      "source": [
        "if my_list[2]:\n",
        "    print(\"I have previous programming experience\")\n",
        "else:\n",
        "    print(\"I do not have previous programming experience\")"
      ],
      "execution_count": 19,
      "outputs": [
        {
          "output_type": "stream",
          "name": "stdout",
          "text": [
            "I have previous programming experience\n"
          ]
        }
      ]
    },
    {
      "metadata": {
        "id": "IBhCrzSmvLIC"
      },
      "cell_type": "markdown",
      "source": [
        "**Q: Add your favorite single digit number to the end of the list using the appropriate list method.**"
      ]
    },
    {
      "metadata": {
        "trusted": true,
        "id": "mknB7HzavLIC"
      },
      "cell_type": "code",
      "source": [
        "my_list.append(7)\n"
      ],
      "execution_count": 48,
      "outputs": []
    },
    {
      "metadata": {
        "id": "8i7A_tYAvLIC"
      },
      "cell_type": "markdown",
      "source": [
        "Let's see if the number shows up in the list."
      ]
    },
    {
      "cell_type": "code",
      "source": [
        "print(my_list)"
      ],
      "metadata": {
        "colab": {
          "base_uri": "https://localhost:8080/"
        },
        "id": "RG_64Dbbtsuo",
        "outputId": "02f890f2-666d-4f14-83be-da49b089fb92"
      },
      "execution_count": 49,
      "outputs": [
        {
          "output_type": "stream",
          "name": "stdout",
          "text": [
            "['Blue', 2, True, 7, 7, 7, 7, 7, 8, 7, 7]\n"
          ]
        }
      ]
    },
    {
      "metadata": {
        "id": "SWHbz8oNvLIC"
      },
      "cell_type": "markdown",
      "source": [
        "**Q: Remove the first element of the list, using the appropriate list method.**\n",
        "\n",
        "*Hint*: Check out methods of list here: https://www.w3schools.com/python/python_ref_list.asp"
      ]
    },
    {
      "metadata": {
        "trusted": true,
        "id": "ym4Y8jKgvLIC",
        "colab": {
          "base_uri": "https://localhost:8080/"
        },
        "outputId": "24750fc8-968e-4d2a-abc3-99d0dd51d422"
      },
      "cell_type": "code",
      "source": [
        "my_list.pop(0)"
      ],
      "execution_count": 57,
      "outputs": [
        {
          "output_type": "execute_result",
          "data": {
            "text/plain": [
              "2"
            ]
          },
          "metadata": {},
          "execution_count": 57
        }
      ]
    },
    {
      "metadata": {
        "trusted": true,
        "id": "jySrd216vLIC",
        "colab": {
          "base_uri": "https://localhost:8080/"
        },
        "outputId": "e762885b-95b6-4a90-8073-e31241d619ed"
      },
      "cell_type": "code",
      "source": [
        "print(my_list)"
      ],
      "execution_count": 52,
      "outputs": [
        {
          "output_type": "stream",
          "name": "stdout",
          "text": [
            "[2, True, 7, 7, 7, 7, 7, 8, 7, 7]\n"
          ]
        }
      ]
    },
    {
      "metadata": {
        "id": "PoUaBIy6vLIC"
      },
      "cell_type": "markdown",
      "source": [
        "**Q: Complete the `print` statement below to display the number of elements in `my_list`.**"
      ]
    },
    {
      "metadata": {
        "trusted": true,
        "id": "dNKqXe-OvLIC",
        "colab": {
          "base_uri": "https://localhost:8080/"
        },
        "outputId": "d6610149-1a42-455d-ce4b-4dfcc8672501"
      },
      "cell_type": "code",
      "source": [
        "print('The number of elements in my_list is' ,{len(my_list)})"
      ],
      "execution_count": 54,
      "outputs": [
        {
          "output_type": "stream",
          "name": "stdout",
          "text": [
            "The number of elements in my_list is {10}\n"
          ]
        }
      ]
    },
    {
      "metadata": {
        "id": "zxabeFFzvLIH"
      },
      "cell_type": "markdown",
      "source": [
        "## Conditions and loops\n",
        "\n",
        "**Q: Calculate and display the sum of all the numbers divisible by 7 between 18 and 534 i.e. `21+28+35+...+525+532`**.\n",
        "\n",
        "*Hint*: One way to do this is to loop over a `range` using `for` and use an `if` statement inside it."
      ]
    },
    {
      "metadata": {
        "trusted": true,
        "id": "xBYbCDgqvLIH"
      },
      "cell_type": "code",
      "source": [
        "sum_of_numbers = 0\n",
        "\n",
        "for num in range(18, 535):\n",
        "    if num % 7 == 0:\n",
        "        sum_of_numbers += num\n"
      ],
      "execution_count": 59,
      "outputs": []
    },
    {
      "metadata": {
        "trusted": true,
        "id": "ia99bHJhvLIH",
        "colab": {
          "base_uri": "https://localhost:8080/"
        },
        "outputId": "0fb910fe-f4c6-4e41-e1e2-d00f4cc8edf6"
      },
      "cell_type": "code",
      "source": [
        "print('The sum of all the numbers divisible by 7 between 18 and 534 is', sum_of_numbers)"
      ],
      "execution_count": 60,
      "outputs": [
        {
          "output_type": "stream",
          "name": "stdout",
          "text": [
            "The sum of all the numbers divisible by 7 between 18 and 534 is 20461\n"
          ]
        }
      ]
    },
    {
      "cell_type": "markdown",
      "source": [
        "## Lists"
      ],
      "metadata": {
        "id": "4ViBWsq_CJR4"
      }
    },
    {
      "cell_type": "markdown",
      "source": [
        "Q1: Write a Python program that takes a list of integers as input and performs the following operations:\n",
        "\n",
        "Remove all duplicates from the list.\n",
        "\n",
        "Sort the list in descending order.\n",
        "\n",
        "Print the second largest number from the list."
      ],
      "metadata": {
        "id": "rGHhWCZKCLld"
      }
    },
    {
      "metadata": {
        "trusted": true,
        "id": "SZ82tPFVvLIL",
        "colab": {
          "base_uri": "https://localhost:8080/"
        },
        "outputId": "38f9f60f-ebf1-4e79-84e1-3683fee45a95"
      },
      "cell_type": "code",
      "source": [
        "numbers = list(map(int, input(\"Enter a list of numbers separated by spaces: \").split()))\n",
        "unique_numbers = list(set(numbers))\n",
        "unique_numbers.sort(reverse=True)\n",
        "if len(unique_numbers) > 1:\n",
        "    print('The second largest number is:' ,{unique_numbers[1]})\n",
        "else:\n",
        "    print(\"Not enough unique numbers to determine the second largest.\")\n"
      ],
      "execution_count": 73,
      "outputs": [
        {
          "output_type": "stream",
          "name": "stdout",
          "text": [
            "Enter a list of numbers separated by spaces: 5\n",
            "Not enough unique numbers to determine the second largest.\n"
          ]
        }
      ]
    },
    {
      "cell_type": "markdown",
      "source": [
        "## Dictionary"
      ],
      "metadata": {
        "id": "XQEcpkFdCavt"
      }
    },
    {
      "cell_type": "markdown",
      "source": [
        "Q2: Create a dictionary from two lists, one containing student names and the other containing their scores. Then, write a program to:\n",
        "\n",
        "Print the dictionary.\n",
        "\n",
        "Find the student with the highest score.\n",
        "\n",
        "Add a new student with a given score to the dictionary."
      ],
      "metadata": {
        "id": "sHTYSJczCTGB"
      }
    },
    {
      "cell_type": "code",
      "source": [
        "students = [\"Abdul\", \"shakir\", \"shehzan\", \"daiyan\"]\n",
        "scores = [85, 92, 78, 90]\n",
        "\n",
        "student_scores = dict(zip(students, scores))\n",
        "\n",
        "print('Student Scores Dictionary:', student_scores)\n",
        "\n",
        "highest_scorer = max(student_scores, key=student_scores.get)\n",
        "print('The student with the highest score is',{highest_scorer},'with a score of',{student_scores[highest_scorer]})\n",
        "\n",
        "new_student = \"Ashfaq\"\n",
        "new_score = 88\n",
        "student_scores[new_student] = new_score\n",
        "\n",
        "print('Updated Student Scores Dictionary:', student_scores)\n"
      ],
      "metadata": {
        "id": "1j5QxWp-CaPV",
        "colab": {
          "base_uri": "https://localhost:8080/"
        },
        "outputId": "157f44a7-3b86-43ab-e2a7-1782ea038575"
      },
      "execution_count": 76,
      "outputs": [
        {
          "output_type": "stream",
          "name": "stdout",
          "text": [
            "Student Scores Dictionary: {'Abdul': 85, 'shakir': 92, 'shehzan': 78, 'daiyan': 90}\n",
            "The student with the highest score is {'shakir'} with a score of {92}\n",
            "Updated Student Scores Dictionary: {'Abdul': 85, 'shakir': 92, 'shehzan': 78, 'daiyan': 90, 'Ashfaq': 88}\n"
          ]
        }
      ]
    },
    {
      "cell_type": "markdown",
      "source": [
        "#Tuple"
      ],
      "metadata": {
        "id": "2hyaanCNCiIi"
      }
    },
    {
      "cell_type": "markdown",
      "source": [
        "3: Write a Python program to create a tuple from a list of integers. Then:\n",
        "\n",
        "Find the minimum, maximum, and sum of the elements in the tuple.\n",
        "\n",
        "Convert the tuple into a string and print it."
      ],
      "metadata": {
        "id": "JXCvRY60CdIC"
      }
    },
    {
      "cell_type": "code",
      "source": [
        "numbers = [10, 25, 8, 42, 17]\n",
        "\n",
        "num_tuple = tuple(numbers)\n",
        "\n",
        "min_value = min(num_tuple)\n",
        "max_value = max(num_tuple)\n",
        "sum_value = sum(num_tuple)\n",
        "\n",
        "tuple_as_string = ', '.join(map(str, num_tuple))\n",
        "\n",
        "print('Tuple:',num_tuple)\n",
        "print('Minimum:' ,{min_value}, 'Maximum:' ,{max_value}, 'Sum:' ,{sum_value})\n",
        "print('Tuple as a string:', tuple_as_string)\n"
      ],
      "metadata": {
        "id": "DuJ7X4WECjob",
        "colab": {
          "base_uri": "https://localhost:8080/"
        },
        "outputId": "3c36bc72-4c0d-47fb-e7f5-cc496c1cedff"
      },
      "execution_count": 77,
      "outputs": [
        {
          "output_type": "stream",
          "name": "stdout",
          "text": [
            "Tuple: (10, 25, 8, 42, 17)\n",
            "Minimum: {8} Maximum: {42} Sum: {102}\n",
            "Tuple as a string: 10, 25, 8, 42, 17\n"
          ]
        }
      ]
    },
    {
      "cell_type": "markdown",
      "source": [
        "##Numpy"
      ],
      "metadata": {
        "id": "1kYvyW6XCzeq"
      }
    },
    {
      "cell_type": "markdown",
      "source": [
        "\n",
        "Q4: Using the NumPy library:\n",
        "\n",
        "Create a 3x3 matrix filled with random integers between 1 and 20.\n",
        "\n",
        "Replace all values greater than 10 with 0.\n",
        "\n",
        "Find the mean of the modified matrix."
      ],
      "metadata": {
        "id": "OPqNJ7fyCkAA"
      }
    },
    {
      "cell_type": "code",
      "source": [
        "import numpy as np\n",
        "\n",
        "matrix = np.random.randint(1, 21, (3, 3))\n",
        "\n",
        "modified_matrix = np.where(matrix > 10, 0, matrix)\n",
        "\n",
        "mean_value = np.mean(modified_matrix)\n",
        "\n",
        "print('Original Matrix:\\n', matrix)\n",
        "print('Modified Matrix (values > 10 replaced with 0):\\n', modified_matrix)\n",
        "print('Mean of the modified matrix:', mean_value)\n"
      ],
      "metadata": {
        "id": "nYOz4En9CxGp",
        "colab": {
          "base_uri": "https://localhost:8080/"
        },
        "outputId": "d716c80e-f823-4992-ff43-e4f9be20f722"
      },
      "execution_count": 78,
      "outputs": [
        {
          "output_type": "stream",
          "name": "stdout",
          "text": [
            "Original Matrix:\n",
            " [[20 12  8]\n",
            " [ 2  4 13]\n",
            " [ 3 19  3]]\n",
            "Modified Matrix (values > 10 replaced with 0):\n",
            " [[0 0 8]\n",
            " [2 4 0]\n",
            " [3 0 3]]\n",
            "Mean of the modified matrix: 2.2222222222222223\n"
          ]
        }
      ]
    },
    {
      "cell_type": "markdown",
      "source": [
        "## Pandas"
      ],
      "metadata": {
        "id": "8Z0UcbZXC1U0"
      }
    },
    {
      "cell_type": "markdown",
      "source": [
        "Q5: Using the Pandas library:\n",
        "\n",
        "Create a DataFrame from a dictionary where the keys are column names, and the values are lists representing data for each column.\n",
        "\n",
        "Add a new column to the DataFrame by calculating the difference between two existing columns.\n",
        "\n",
        "Drop any rows where the value in a specific column is less than 50."
      ],
      "metadata": {
        "id": "abiz20V4C1RS"
      }
    },
    {
      "cell_type": "code",
      "source": [
        "import pandas as pd\n",
        "\n",
        "data = {\n",
        "    \"Name\": [\"Abdul\", \"shakir\", \"shehzan\", \"daiyan\", \"Ashfaq\"],\n",
        "    \"Score1\": [75, 45, 88, 92, 30],\n",
        "    \"Score2\": [68, 50, 82, 95, 25]\n",
        "}\n",
        "\n",
        "df = pd.DataFrame(data)\n",
        "\n",
        "df[\"Difference\"] = df[\"Score1\"] - df[\"Score2\"]\n",
        "\n",
        "df_filtered = df[df[\"Score1\"] >= 50]\n",
        "\n",
        "print('Original DataFrame:\\n', df)\n",
        "print('\\nFiltered DataFrame (rows with Score1 >= 50):\\n', df_filtered)\n"
      ],
      "metadata": {
        "id": "ah5WJvzDC7iK",
        "colab": {
          "base_uri": "https://localhost:8080/"
        },
        "outputId": "184a5b3e-c1f1-49a7-906f-a6b6979573f8"
      },
      "execution_count": 79,
      "outputs": [
        {
          "output_type": "stream",
          "name": "stdout",
          "text": [
            "Original DataFrame:\n",
            "       Name  Score1  Score2  Difference\n",
            "0    Abdul      75      68           7\n",
            "1   shakir      45      50          -5\n",
            "2  shehzan      88      82           6\n",
            "3   daiyan      92      95          -3\n",
            "4   Ashfaq      30      25           5\n",
            "\n",
            "Filtered DataFrame (rows with Score1 >= 50):\n",
            "       Name  Score1  Score2  Difference\n",
            "0    Abdul      75      68           7\n",
            "2  shehzan      88      82           6\n",
            "3   daiyan      92      95          -3\n"
          ]
        }
      ]
    },
    {
      "cell_type": "markdown",
      "source": [
        "##Exception Handling"
      ],
      "metadata": {
        "id": "VF5MTuC7C_94"
      }
    },
    {
      "cell_type": "markdown",
      "source": [
        "\n",
        "Q6: Write a Python program to perform division of two user-input numbers. Implement exception handling to:\n",
        "\n",
        "Catch the division by zero error.\n",
        "\n",
        "Catch invalid input type errors (e.g., if the user enters a string instead of a number).\n",
        "\n",
        "Ensure the program runs successfully even if an error occurs. (Hint: Add finally)"
      ],
      "metadata": {
        "id": "vLTDuZGuC_3d"
      }
    },
    {
      "cell_type": "code",
      "source": [
        "try:\n",
        "    num1 = float(input(\"Enter the first number: \"))\n",
        "    num2 = float(input(\"Enter the second number: \"))\n",
        "\n",
        "    result = num1 / num2\n",
        "\n",
        "except ZeroDivisionError:\n",
        "    print(\"Error: Division by zero is not allowed. Please enter a non-zero denominator.\")\n",
        "except ValueError:\n",
        "    print(\"Error: Invalid input. Please enter numeric values only.\")\n",
        "else:\n",
        "    print('Result of division:' ,{result})\n",
        "finally:\n",
        "    print(\"Execution completed. Thank you for using the program.\")\n"
      ],
      "metadata": {
        "id": "ktyOho_2DHyP",
        "colab": {
          "base_uri": "https://localhost:8080/"
        },
        "outputId": "98710d3f-fa68-4f49-87e8-3b5dabb8f405"
      },
      "execution_count": 81,
      "outputs": [
        {
          "output_type": "stream",
          "name": "stdout",
          "text": [
            "Enter the first number: 10\n",
            "Enter the second number: 0\n",
            "Error: Division by zero is not allowed. Please enter a non-zero denominator.\n",
            "Execution completed. Thank you for using the program.\n"
          ]
        }
      ]
    },
    {
      "cell_type": "markdown",
      "source": [
        "## Matplotlib"
      ],
      "metadata": {
        "id": "rNyZu1w9DeTz"
      }
    },
    {
      "cell_type": "markdown",
      "source": [
        "\n",
        "Q7: Create a line chart using the Matplotlib library to display the population growth over years. The program should:\n",
        "\n",
        "Create dummy data: containing years and population values.\n",
        "\n",
        "Plot the line chart with proper labels for the x-axis, y-axis, and a title."
      ],
      "metadata": {
        "id": "Udg5GavODMuT"
      }
    },
    {
      "cell_type": "code",
      "source": [
        "import matplotlib.pyplot as plt\n",
        "\n",
        "years = [2000, 2005, 2010, 2015, 2020, 2025]\n",
        "population = [2.5, 2.8, 3.2, 3.8, 4.5, 5.1]\n",
        "\n",
        "plt.plot(years, population, marker='o', linestyle='-', color='b', label=\"Population Growth\")\n",
        "\n",
        "plt.xlabel(\"Years\")\n",
        "plt.ylabel(\"Population (in billions)\")\n",
        "plt.title(\"Population Growth Over Years\")\n",
        "plt.legend()\n",
        "\n",
        "plt.grid(True)\n",
        "plt.show()\n"
      ],
      "metadata": {
        "id": "k6nTd1wRDdUg",
        "colab": {
          "base_uri": "https://localhost:8080/",
          "height": 472
        },
        "outputId": "2b8d6cad-d32c-429d-d94f-eaf9446171ef"
      },
      "execution_count": 82,
      "outputs": [
        {
          "output_type": "display_data",
          "data": {
            "text/plain": [
              "<Figure size 640x480 with 1 Axes>"
            ],
            "image/png": "[encoded data removed]"
          },
          "metadata": {}
        }
      ]
    },
    {
      "cell_type": "markdown",
      "source": [
        "## Seaborn"
      ],
      "metadata": {
        "id": "_W9lJpzZDxNF"
      }
    },
    {
      "cell_type": "markdown",
      "source": [
        "\n",
        "Q8: Using the Seaborn library, plot a distribution of the sepal_length column from the Iris dataset. The program should:\n",
        "\n",
        "Load the 'iris' dataset from Seaborn's sample datasets.\n",
        "Plot a KDE (Kernel Density Estimation) plot for the sepal_length column.\n",
        "Customize the plot with a title and set the color of the plot to blue.\n"
      ],
      "metadata": {
        "id": "hM12mAgqDyId"
      }
    },
    {
      "cell_type": "code",
      "source": [
        "import seaborn as sns\n",
        "import matplotlib.pyplot as plt\n",
        "\n",
        "iris = sns.load_dataset(\"iris\")\n",
        "\n",
        "sns.kdeplot(data=iris, x=\"sepal_length\", color=\"blue\", fill=True)\n",
        "\n",
        "plt.title(\"Distribution of Sepal Length in Iris Dataset\")\n",
        "plt.xlabel(\"Sepal Length\")\n",
        "plt.ylabel(\"Density\")\n",
        "\n",
        "plt.show()\n"
      ],
      "metadata": {
        "id": "3CYknAGGDzpK",
        "colab": {
          "base_uri": "https://localhost:8080/",
          "height": 472
        },
        "outputId": "e702c0ff-7a41-4a46-cd79-e5569269e75c"
      },
      "execution_count": 83,
      "outputs": [
        {
          "output_type": "display_data",
          "data": {
            "text/plain": [
              "<Figure size 640x480 with 1 Axes>"
            ],
            "image/png": "[encoded data removed]"
          },
          "metadata": {}
        }
      ]
    },
    {
      "cell_type": "markdown",
      "source": [
        "## Pandas DataFrame"
      ],
      "metadata": {
        "id": "fFTydMAXD-cD"
      }
    },
    {
      "cell_type": "markdown",
      "source": [
        "\n",
        "Q9: Write a Python program to perform the following operations on the Iris dataset:\n",
        "\n",
        "Load the dataset into a Pandas DataFrame.\n",
        "\n",
        "Display the first 10 rows of the DataFrame.\n",
        "\n",
        "Group the data by the species column and calculate the mean of each numeric column for each species.\n",
        "\n",
        "Add a new column sepal_area that is the product of sepal_length and sepal_width.\n",
        "\n",
        "Filter the DataFrame to show only rows where sepal_area is greater than 20."
      ],
      "metadata": {
        "id": "nZSrcAuuD-Yt"
      }
    },
    {
      "cell_type": "code",
      "source": [
        "import pandas as pd\n",
        "import seaborn as sns\n",
        "\n",
        "iris = sns.load_dataset(\"iris\")\n",
        "\n",
        "print(\"First 10 rows of the Iris dataset:\")\n",
        "print(iris.head(10))\n",
        "\n",
        "species_mean = iris.groupby(\"species\").mean(numeric_only=True)\n",
        "print(\"\\nMean values for each species:\")\n",
        "print(species_mean)\n",
        "\n",
        "iris[\"sepal_area\"] = iris[\"sepal_length\"] * iris[\"sepal_width\"]\n",
        "\n",
        "filtered_iris = iris[iris[\"sepal_area\"] > 20]\n",
        "\n",
        "print(\"\\nFiltered DataFrame (sepal_area > 20):\")\n",
        "print(filtered_iris)\n"
      ],
      "metadata": {
        "id": "vWpR1ZA1EE5v",
        "colab": {
          "base_uri": "https://localhost:8080/"
        },
        "outputId": "fdb12d33-d66b-4fec-a6f9-a6f6c77f51be"
      },
      "execution_count": 84,
      "outputs": [
        {
          "output_type": "stream",
          "name": "stdout",
          "text": [
            "First 10 rows of the Iris dataset:\n",
            "   sepal_length  sepal_width  petal_length  petal_width species\n",
            "0           5.1          3.5           1.4          0.2  setosa\n",
            "1           4.9          3.0           1.4          0.2  setosa\n",
            "2           4.7          3.2           1.3          0.2  setosa\n",
            "3           4.6          3.1           1.5          0.2  setosa\n",
            "4           5.0          3.6           1.4          0.2  setosa\n",
            "5           5.4          3.9           1.7          0.4  setosa\n",
            "6           4.6          3.4           1.4          0.3  setosa\n",
            "7           5.0          3.4           1.5          0.2  setosa\n",
            "8           4.4          2.9           1.4          0.2  setosa\n",
            "9           4.9          3.1           1.5          0.1  setosa\n",
            "\n",
            "Mean values for each species:\n",
            "            sepal_length  sepal_width  petal_length  petal_width\n",
            "species                                                         \n",
            "setosa             5.006        3.428         1.462        0.246\n",
            "versicolor         5.936        2.770         4.260        1.326\n",
            "virginica          6.588        2.974         5.552        2.026\n",
            "\n",
            "Filtered DataFrame (sepal_area > 20):\n",
            "     sepal_length  sepal_width  petal_length  petal_width     species  \\\n",
            "5             5.4          3.9           1.7          0.4      setosa   \n",
            "14            5.8          4.0           1.2          0.2      setosa   \n",
            "15            5.7          4.4           1.5          0.4      setosa   \n",
            "16            5.4          3.9           1.3          0.4      setosa   \n",
            "18            5.7          3.8           1.7          0.3      setosa   \n",
            "32            5.2          4.1           1.5          0.1      setosa   \n",
            "33            5.5          4.2           1.4          0.2      setosa   \n",
            "50            7.0          3.2           4.7          1.4  versicolor   \n",
            "51            6.4          3.2           4.5          1.5  versicolor   \n",
            "52            6.9          3.1           4.9          1.5  versicolor   \n",
            "56            6.3          3.3           4.7          1.6  versicolor   \n",
            "65            6.7          3.1           4.4          1.4  versicolor   \n",
            "77            6.7          3.0           5.0          1.7  versicolor   \n",
            "85            6.0          3.4           4.5          1.6  versicolor   \n",
            "86            6.7          3.1           4.7          1.5  versicolor   \n",
            "100           6.3          3.3           6.0          2.5   virginica   \n",
            "102           7.1          3.0           5.9          2.1   virginica   \n",
            "105           7.6          3.0           6.6          2.1   virginica   \n",
            "107           7.3          2.9           6.3          1.8   virginica   \n",
            "109           7.2          3.6           6.1          2.5   virginica   \n",
            "110           6.5          3.2           5.1          2.0   virginica   \n",
            "112           6.8          3.0           5.5          2.1   virginica   \n",
            "115           6.4          3.2           5.3          2.3   virginica   \n",
            "117           7.7          3.8           6.7          2.2   virginica   \n",
            "118           7.7          2.6           6.9          2.3   virginica   \n",
            "120           6.9          3.2           5.7          2.3   virginica   \n",
            "122           7.7          2.8           6.7          2.0   virginica   \n",
            "124           6.7          3.3           5.7          2.1   virginica   \n",
            "125           7.2          3.2           6.0          1.8   virginica   \n",
            "129           7.2          3.0           5.8          1.6   virginica   \n",
            "130           7.4          2.8           6.1          1.9   virginica   \n",
            "131           7.9          3.8           6.4          2.0   virginica   \n",
            "135           7.7          3.0           6.1          2.3   virginica   \n",
            "136           6.3          3.4           5.6          2.4   virginica   \n",
            "139           6.9          3.1           5.4          2.1   virginica   \n",
            "140           6.7          3.1           5.6          2.4   virginica   \n",
            "141           6.9          3.1           5.1          2.3   virginica   \n",
            "143           6.8          3.2           5.9          2.3   virginica   \n",
            "144           6.7          3.3           5.7          2.5   virginica   \n",
            "145           6.7          3.0           5.2          2.3   virginica   \n",
            "148           6.2          3.4           5.4          2.3   virginica   \n",
            "\n",
            "     sepal_area  \n",
            "5         21.06  \n",
            "14        23.20  \n",
            "15        25.08  \n",
            "16        21.06  \n",
            "18        21.66  \n",
            "32        21.32  \n",
            "33        23.10  \n",
            "50        22.40  \n",
            "51        20.48  \n",
            "52        21.39  \n",
            "56        20.79  \n",
            "65        20.77  \n",
            "77        20.10  \n",
            "85        20.40  \n",
            "86        20.77  \n",
            "100       20.79  \n",
            "102       21.30  \n",
            "105       22.80  \n",
            "107       21.17  \n",
            "109       25.92  \n",
            "110       20.80  \n",
            "112       20.40  \n",
            "115       20.48  \n",
            "117       29.26  \n",
            "118       20.02  \n",
            "120       22.08  \n",
            "122       21.56  \n",
            "124       22.11  \n",
            "125       23.04  \n",
            "129       21.60  \n",
            "130       20.72  \n",
            "131       30.02  \n",
            "135       23.10  \n",
            "136       21.42  \n",
            "139       21.39  \n",
            "140       20.77  \n",
            "141       21.39  \n",
            "143       21.76  \n",
            "144       22.11  \n",
            "145       20.10  \n",
            "148       21.08  \n"
          ]
        }
      ]
    },
    {
      "cell_type": "markdown",
      "source": [
        "## Functions"
      ],
      "metadata": {
        "id": "boirWrgRElAS"
      }
    },
    {
      "cell_type": "markdown",
      "source": [
        "Q10: Write a Python program that defines a function to calculate the Body Mass Index (BMI) based on a person's weight and height. The program should:\n",
        "\n",
        "Define a function calculate_bmi(weight, height) that takes the weight (in kilograms) and height (in meters) as arguments and returns the BMI.\n",
        "\n",
        "BMI = weight/(height**2)\n",
        "\n",
        "Use the function to calculate the BMI for a given weight and height input by the user.\n",
        "\n",
        "Define another function bmi_category(bmi) that takes the BMI as input and returns the BMI category:\n",
        "\n",
        "\"Underweight\" if BMI < 18.5\n",
        "\n",
        "\"Normal weight\" if 18.5 <= BMI < 24.9\n",
        "\n",
        "\"Overweight\" if 25 <= BMI < 29.9\n",
        "\n",
        "\"Obese\" if BMI >= 30\n",
        "\n",
        "(Hint; use if elif else multiple conditions)\n",
        "\n",
        "Print the calculated BMI and the corresponding category."
      ],
      "metadata": {
        "id": "Ve2MS7VKEk9C"
      }
    },
    {
      "cell_type": "code",
      "source": [
        "def calculate_bmi(weight, height):\n",
        "    \"\"\"Calculate BMI using the formula BMI = weight / (height ** 2)\"\"\"\n",
        "    return weight / (height ** 2)\n",
        "\n",
        "def bmi_category(bmi):\n",
        "    \"\"\"Determine BMI category based on the BMI value\"\"\"\n",
        "    if bmi < 18.5:\n",
        "        return \"Underweight\"\n",
        "    elif 18.5 <= bmi < 24.9:\n",
        "        return \"Normal weight\"\n",
        "    elif 25 <= bmi < 29.9:\n",
        "        return \"Overweight\"\n",
        "    else:\n",
        "        return \"Obese\"\n",
        "\n",
        "try:\n",
        "    weight = float(input(\"Enter your weight in kg: \"))\n",
        "    height = float(input(\"Enter your height in meters: \"))\n",
        "\n",
        "    bmi = calculate_bmi(weight, height)\n",
        "\n",
        "    category = bmi_category(bmi)\n",
        "\n",
        "    print(f\"\\nYour BMI: {bmi:.2f}\")\n",
        "    print(f\"Category: {category}\")\n",
        "\n",
        "except ValueError:\n",
        "    print(\"Error: Please enter valid numeric values for weight and height.\")\n"
      ],
      "metadata": {
        "colab": {
          "base_uri": "https://localhost:8080/"
        },
        "id": "6bbUpptWUvyY",
        "outputId": "6000269d-228f-47c4-9a64-f376d4d52276"
      },
      "execution_count": 85,
      "outputs": [
        {
          "output_type": "stream",
          "name": "stdout",
          "text": [
            "Enter your weight in kg: 72\n",
            "Enter your height in meters: 164\n",
            "\n",
            "Your BMI: 0.00\n",
            "Category: Underweight\n"
          ]
        }
      ]
    },
    {
      "cell_type": "markdown",
      "source": [
        "## OOPS"
      ],
      "metadata": {
        "id": "H9q9BWZ6Li8D"
      }
    },
    {
      "cell_type": "markdown",
      "source": [
        "Problem #1: Complete the code below to calcualte volume and surface area of a cylinder"
      ],
      "metadata": {
        "id": "lGs0H00rL3RD"
      }
    },
    {
      "cell_type": "code",
      "source": [
        "import math\n",
        "\n",
        "class Cylinder:\n",
        "    def __init__(self, height=1, radius=1):\n",
        "        \"\"\"Initialize cylinder with given height and radius (default = 1).\"\"\"\n",
        "        self.height = height\n",
        "        self.radius = radius\n",
        "\n",
        "    def volume(self):\n",
        "        \"\"\"Calculate and return the volume of the cylinder: V = π * r² * h\"\"\"\n",
        "        return math.pi * (self.radius ** 2) * self.height\n",
        "\n",
        "    def surface_area(self):\n",
        "        \"\"\"Calculate and return the surface area: A = 2πr(h + r)\"\"\"\n",
        "        return 2 * math.pi * self.radius * (self.height + self.radius)\n",
        "\n",
        "cyl = Cylinder(10, 5)\n",
        "print(f\"Volume: {cyl.volume():.2f} cubic units\")\n",
        "print(f\"Surface Area: {cyl.surface_area():.2f} square units\")\n"
      ],
      "metadata": {
        "id": "vk_rMP-8E31G",
        "colab": {
          "base_uri": "https://localhost:8080/"
        },
        "outputId": "a75ae1f7-de7f-4bfa-e8eb-cf8eb5e5f9cb"
      },
      "execution_count": 86,
      "outputs": [
        {
          "output_type": "stream",
          "name": "stdout",
          "text": [
            "Volume: 785.40 cubic units\n",
            "Surface Area: 471.24 square units\n"
          ]
        }
      ]
    },
    {
      "cell_type": "code",
      "source": [
        "# EXAMPLE OUTPUT\n",
        "c = Cylinder(2,3)"
      ],
      "metadata": {
        "id": "rUZwaNMmMCF5"
      },
      "execution_count": 87,
      "outputs": []
    },
    {
      "cell_type": "code",
      "source": [
        "c.volume()"
      ],
      "metadata": {
        "id": "wQSeJ9wQMENx",
        "colab": {
          "base_uri": "https://localhost:8080/"
        },
        "outputId": "6bb93122-e5ed-454e-c1e6-3ef85620246a"
      },
      "execution_count": 88,
      "outputs": [
        {
          "output_type": "execute_result",
          "data": {
            "text/plain": [
              "56.548667764616276"
            ]
          },
          "metadata": {},
          "execution_count": 88
        }
      ]
    },
    {
      "cell_type": "code",
      "source": [
        "c.surface_area()"
      ],
      "metadata": {
        "id": "94_3vbW3MGJN",
        "colab": {
          "base_uri": "https://localhost:8080/"
        },
        "outputId": "cc9c4a83-00d1-41df-cc29-2505b98628b7"
      },
      "execution_count": 89,
      "outputs": [
        {
          "output_type": "execute_result",
          "data": {
            "text/plain": [
              "94.24777960769379"
            ]
          },
          "metadata": {},
          "execution_count": 89
        }
      ]
    },
    {
      "cell_type": "markdown",
      "source": [
        "Problem #2:\n",
        "\n",
        "- Create a bank account class that has two attributes:\n",
        "\n",
        "   - owner\n",
        "   - balance\n",
        "   \n",
        "- and two methods:\n",
        "\n",
        "   - deposit\n",
        "   - withdraw\n",
        "\n",
        "Instantiate your class, make several deposits and withdrawals, and test to make sure the account can't be overdrawn."
      ],
      "metadata": {
        "id": "VjUSspmUXvf8"
      }
    },
    {
      "cell_type": "code",
      "source": [
        "class BankAccount:\n",
        "    def __init__(self, owner, balance=0.0):\n",
        "        \"\"\"Initialize bank account with an owner and optional balance (default is 0).\"\"\"\n",
        "        self.owner = owner\n",
        "        self.balance = balance\n",
        "\n",
        "    def deposit(self, amount):\n",
        "        \"\"\"Deposit money into the account.\"\"\"\n",
        "        if amount > 0:\n",
        "            self.balance += amount\n",
        "            print(f\"Deposit of ${amount:.2f} successful. New balance: ${self.balance:.2f}\")\n",
        "        else:\n",
        "            print(\"Deposit amount must be greater than zero.\")\n",
        "\n",
        "    def withdraw(self, amount):\n",
        "        \"\"\"Withdraw money from the account, ensuring balance isn't overdrawn.\"\"\"\n",
        "        if amount > self.balance:\n",
        "            print(f\"Insufficient funds! Current balance: ${self.balance:.2f}\")\n",
        "        elif amount > 0:\n",
        "            self.balance -= amount\n",
        "            print(f\"Withdrawal of ${amount:.2f} successful. New balance: ${self.balance:.2f}\")\n",
        "        else:\n",
        "            print(\"Withdrawal amount must be greater than zero.\")\n",
        "\n",
        "account = BankAccount(\"John Doe\", 100)\n",
        "\n",
        "account.deposit(50)\n",
        "account.withdraw(30)\n",
        "account.withdraw(150)\n",
        "account.deposit(-10)\n",
        "account.withdraw(0)\n"
      ],
      "metadata": {
        "colab": {
          "base_uri": "https://localhost:8080/"
        },
        "id": "sRBxW58jV4ii",
        "outputId": "0359a9dd-9f62-4e90-d093-c056772eaafe"
      },
      "execution_count": 90,
      "outputs": [
        {
          "output_type": "stream",
          "name": "stdout",
          "text": [
            "Deposit of $50.00 successful. New balance: $150.00\n",
            "Withdrawal of $30.00 successful. New balance: $120.00\n",
            "Insufficient funds! Current balance: $120.00\n",
            "Deposit amount must be greater than zero.\n",
            "Withdrawal amount must be greater than zero.\n"
          ]
        }
      ]
    },
    {
      "cell_type": "markdown",
      "source": [
        "## Decorators"
      ],
      "metadata": {
        "id": "VKDEFWpOYc5l"
      }
    },
    {
      "cell_type": "markdown",
      "source": [
        "1. Write a Python program to create a decorator function to measure the execution time of a function.\n",
        "\n"
      ],
      "metadata": {
        "id": "SCtuWz6WZpDr"
      }
    },
    {
      "cell_type": "code",
      "source": [
        "import time\n",
        "\n",
        "def execution_time(func):\n",
        "    \"\"\"Decorator to measure the execution time of a function.\"\"\"\n",
        "    def wrapper(*args, **kwargs):\n",
        "        start_time = time.time()\n",
        "        result = func(*args, **kwargs)\n",
        "        end_time = time.time()\n",
        "        print(f\"Execution time: {end_time - start_time:.6f} seconds\")\n",
        "        return result\n",
        "    return wrapper\n",
        "\n",
        "@execution_time\n",
        "def sample_function(n):\n",
        "    \"\"\"Function that simulates workload by sleeping for 'n' seconds.\"\"\"\n",
        "    time.sleep(n)\n",
        "    print(\"Function executed!\")\n",
        "\n",
        "sample_function(2)\n"
      ],
      "metadata": {
        "id": "PbDSUEznYFG7",
        "colab": {
          "base_uri": "https://localhost:8080/"
        },
        "outputId": "224480dc-1ee7-4202-bb84-d6502ee1fd0b"
      },
      "execution_count": 91,
      "outputs": [
        {
          "output_type": "stream",
          "name": "stdout",
          "text": [
            "Function executed!\n",
            "Execution time: 2.000274 seconds\n"
          ]
        }
      ]
    }
  ],
  "metadata": {
    "kernelspec": {
      "language": "python",
      "display_name": "Python 3",
      "name": "python3"
    },
    "language_info": {
      "pygments_lexer": "ipython3",
      "nbconvert_exporter": "python",
      "version": "3.6.4",
      "file_extension": ".py",
      "codemirror_mode": {
        "name": "ipython",
        "version": 3
      },
      "name": "python",
      "mimetype": "text/x-python"
    },
    "colab": {
      "provenance": [],
      "include_colab_link": true
    }
  },
  "nbformat": 4,
  "nbformat_minor": 0
}